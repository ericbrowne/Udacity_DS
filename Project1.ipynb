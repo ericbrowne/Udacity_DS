{
 "cells": [
  {
   "cell_type": "markdown",
   "metadata": {},
   "source": [
    "## <center><u> Competitive Imbalance: Rainbow Six Siege</u></center>"
   ]
  },
  {
   "cell_type": "markdown",
   "metadata": {},
   "source": [
    "<b>What to do if player character imbalanced?</b>\n",
    "+ Nerf/Buff character's equipment or abilities\n",
    "    + A nerf/buff could also come in the form of nerfing/buffing another player who is a counter to said player\n",
    "   \n",
    "<b>What to do if map imbalanced?</b>\n",
    "+ Rework map environment, change certain areas, remove or add obstacles, take away windows,change bomb sites\n",
    "\n",
    "<b>How do video game imbalances relate to real world sports/competitive environments?</b>\n",
    "+ Sometimes, rules in sports/competitive events can become outdated or hindering.  Just like how video games change and rework rules/maps/characters, sports and other competititions should also consider reviewing over rules in a more frequent manner."
   ]
  },
  {
   "cell_type": "code",
   "execution_count": null,
   "metadata": {},
   "outputs": [],
   "source": []
  }
 ],
 "metadata": {
  "kernelspec": {
   "display_name": "Python 3",
   "language": "python",
   "name": "python3"
  },
  "language_info": {
   "codemirror_mode": {
    "name": "ipython",
    "version": 3
   },
   "file_extension": ".py",
   "mimetype": "text/x-python",
   "name": "python",
   "nbconvert_exporter": "python",
   "pygments_lexer": "ipython3",
   "version": "3.8.5"
  }
 },
 "nbformat": 4,
 "nbformat_minor": 4
}
